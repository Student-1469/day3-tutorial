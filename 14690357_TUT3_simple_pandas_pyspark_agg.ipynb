{
  "cells": [
    {
      "cell_type": "markdown",
      "metadata": {
        "id": "view-in-github",
        "colab_type": "text"
      },
      "source": [
        "<a href=\"https://colab.research.google.com/github/Student-1469/day3-tutorial/blob/main/14690357_TUT3_simple_pandas_pyspark_agg.ipynb\" target=\"_parent\"><img src=\"https://colab.research.google.com/assets/colab-badge.svg\" alt=\"Open In Colab\"/></a>"
      ]
    },
    {
      "cell_type": "markdown",
      "metadata": {
        "id": "P7r-MEHUPags"
      },
      "source": [
        "# Exploring Spark with Pandas\n"
      ]
    },
    {
      "cell_type": "markdown",
      "metadata": {
        "id": "7kzoJkO6Pagt"
      },
      "source": [
        "Using pandas examples, convert the analysis to pyspark. This is useful if you discover your data grows too large for your tooling.\n",
        "\n",
        "The purpose of this notebook is to familiarise yourself you the pyspark API. You are welcome to use the R version of this if you wish. As long as you are able to obtain the correct results. We will be using python in this notebook as it is quite widely used through data science and the community is very large.\n",
        "\n"
      ]
    },
    {
      "cell_type": "code",
      "source": [
        "# Step 1: Install Java\n",
        "!apt-get install openjdk-8-jdk-headless -qq > /dev/null\n",
        "\n",
        "# Step 2: Download Spark 3.3.2 from a valid archive link\n",
        "VERSION=\"3.3.2\"\n",
        "!wget -q https://archive.apache.org/dist/spark/spark-$VERSION/spark-$VERSION-bin-hadoop3.tgz -O spark-$VERSION-bin-hadoop3.tgz\n",
        "\n",
        "# Step 3: Decompress Spark tar file\n",
        "!tar xf spark-$VERSION-bin-hadoop3.tgz\n",
        "\n",
        "# Step 4: Install findspark\n",
        "!pip install -q findspark\n",
        "\n",
        "# Step 5: Set environment variables for Java and Spark\n",
        "import os\n",
        "os.environ[\"JAVA_HOME\"] = \"/usr/lib/jvm/java-8-openjdk-amd64\"\n",
        "os.environ[\"SPARK_HOME\"] = f\"/content/spark-{VERSION}-bin-hadoop3\"\n",
        "\n",
        "# Step 6: Initialize findspark and create a Spark session\n",
        "import findspark\n",
        "findspark.init()\n",
        "\n",
        "from pyspark.sql import SparkSession\n",
        "spark = SparkSession.builder.master(\"local[*]\").getOrCreate()\n",
        "\n",
        "# Verify Spark version\n",
        "print(spark.version)\n"
      ],
      "metadata": {
        "colab": {
          "base_uri": "https://localhost:8080/"
        },
        "id": "ZN3Rpw5pS3O8",
        "outputId": "44ee6846-6321-4385-8459-768c86d3feeb"
      },
      "execution_count": null,
      "outputs": [
        {
          "output_type": "stream",
          "name": "stdout",
          "text": [
            "3.3.2\n"
          ]
        }
      ]
    },
    {
      "cell_type": "markdown",
      "metadata": {
        "id": "xuHfrdD3Pagt"
      },
      "source": [
        "#### Firstly, let's get our spark session"
      ]
    },
    {
      "cell_type": "code",
      "execution_count": null,
      "metadata": {
        "id": "qcWNGaN1Pagu"
      },
      "outputs": [],
      "source": [
        "from pyspark.sql import SparkSession\n",
        "import pandas as pd\n",
        "spark = SparkSession.builder.appName('panda-and-spark').getOrCreate()"
      ]
    },
    {
      "cell_type": "markdown",
      "metadata": {
        "id": "AYyWhg3mPagu"
      },
      "source": [
        "### Overview\n",
        "\n",
        "\n",
        "* Joining two dataframes/data sets\n",
        "* Simple aggregations\n",
        "* Persisting"
      ]
    },
    {
      "cell_type": "markdown",
      "metadata": {
        "id": "B-zBsMugPagv"
      },
      "source": [
        "#### JOIN: Pandas\n",
        "\n",
        "We won't use this more in this notebook, but observe how the joins work.\n",
        "\n",
        "We what happens if you change from the default inner join to outer joins."
      ]
    },
    {
      "cell_type": "code",
      "execution_count": null,
      "metadata": {
        "id": "inYO-cCOPagv"
      },
      "outputs": [],
      "source": [
        "customer_raw = [(1, 'bob', 3462543658686),\n",
        "           (2, 'rob', 9087567565439),\n",
        "           (3, 'tim', 5436586999467),\n",
        "           (4, 'tom', 8349756853250)]\n",
        "\n",
        "customer_cols = ['id', 'name', 'credit_card_number']\n",
        "\n",
        "\n",
        "\n",
        "orders_raw = [(1, 'ketchup', 'bob', 1.20),\n",
        "           (2, 'rutabaga', 'bob', 3.35),\n",
        "           (3, 'fake vegan meat', 'rob', 13.99),\n",
        "           (4, 'cheesey poofs', 'tim', 3.99),\n",
        "           (5, 'ice cream', 'tim', 4.95),\n",
        "           (6, 'protein powder', 'tom', 49.95)]\n",
        "\n",
        "orders_cols = ['id', 'product_name', 'customer', 'price']"
      ]
    },
    {
      "cell_type": "code",
      "execution_count": null,
      "metadata": {
        "id": "rDUTz4IYPagw",
        "colab": {
          "base_uri": "https://localhost:8080/",
          "height": 237
        },
        "outputId": "2abc31e7-5be4-4723-9020-8565b5d5d851"
      },
      "outputs": [
        {
          "output_type": "execute_result",
          "data": {
            "text/plain": [
              "   id_x name  credit_card_number  id_y     product_name customer  price\n",
              "0     1  bob       3462543658686     1          ketchup      bob   1.20\n",
              "1     1  bob       3462543658686     2         rutabaga      bob   3.35\n",
              "2     2  rob       9087567565439     3  fake vegan meat      rob  13.99\n",
              "3     3  tim       5436586999467     4    cheesey poofs      tim   3.99\n",
              "4     3  tim       5436586999467     5        ice cream      tim   4.95\n",
              "5     4  tom       8349756853250     6   protein powder      tom  49.95"
            ],
            "text/html": [
              "\n",
              "  <div id=\"df-8f9d154f-4509-4b2b-abe0-7a3274cf99d6\" class=\"colab-df-container\">\n",
              "    <div>\n",
              "<style scoped>\n",
              "    .dataframe tbody tr th:only-of-type {\n",
              "        vertical-align: middle;\n",
              "    }\n",
              "\n",
              "    .dataframe tbody tr th {\n",
              "        vertical-align: top;\n",
              "    }\n",
              "\n",
              "    .dataframe thead th {\n",
              "        text-align: right;\n",
              "    }\n",
              "</style>\n",
              "<table border=\"1\" class=\"dataframe\">\n",
              "  <thead>\n",
              "    <tr style=\"text-align: right;\">\n",
              "      <th></th>\n",
              "      <th>id_x</th>\n",
              "      <th>name</th>\n",
              "      <th>credit_card_number</th>\n",
              "      <th>id_y</th>\n",
              "      <th>product_name</th>\n",
              "      <th>customer</th>\n",
              "      <th>price</th>\n",
              "    </tr>\n",
              "  </thead>\n",
              "  <tbody>\n",
              "    <tr>\n",
              "      <th>0</th>\n",
              "      <td>1</td>\n",
              "      <td>bob</td>\n",
              "      <td>3462543658686</td>\n",
              "      <td>1</td>\n",
              "      <td>ketchup</td>\n",
              "      <td>bob</td>\n",
              "      <td>1.20</td>\n",
              "    </tr>\n",
              "    <tr>\n",
              "      <th>1</th>\n",
              "      <td>1</td>\n",
              "      <td>bob</td>\n",
              "      <td>3462543658686</td>\n",
              "      <td>2</td>\n",
              "      <td>rutabaga</td>\n",
              "      <td>bob</td>\n",
              "      <td>3.35</td>\n",
              "    </tr>\n",
              "    <tr>\n",
              "      <th>2</th>\n",
              "      <td>2</td>\n",
              "      <td>rob</td>\n",
              "      <td>9087567565439</td>\n",
              "      <td>3</td>\n",
              "      <td>fake vegan meat</td>\n",
              "      <td>rob</td>\n",
              "      <td>13.99</td>\n",
              "    </tr>\n",
              "    <tr>\n",
              "      <th>3</th>\n",
              "      <td>3</td>\n",
              "      <td>tim</td>\n",
              "      <td>5436586999467</td>\n",
              "      <td>4</td>\n",
              "      <td>cheesey poofs</td>\n",
              "      <td>tim</td>\n",
              "      <td>3.99</td>\n",
              "    </tr>\n",
              "    <tr>\n",
              "      <th>4</th>\n",
              "      <td>3</td>\n",
              "      <td>tim</td>\n",
              "      <td>5436586999467</td>\n",
              "      <td>5</td>\n",
              "      <td>ice cream</td>\n",
              "      <td>tim</td>\n",
              "      <td>4.95</td>\n",
              "    </tr>\n",
              "    <tr>\n",
              "      <th>5</th>\n",
              "      <td>4</td>\n",
              "      <td>tom</td>\n",
              "      <td>8349756853250</td>\n",
              "      <td>6</td>\n",
              "      <td>protein powder</td>\n",
              "      <td>tom</td>\n",
              "      <td>49.95</td>\n",
              "    </tr>\n",
              "  </tbody>\n",
              "</table>\n",
              "</div>\n",
              "    <div class=\"colab-df-buttons\">\n",
              "\n",
              "  <div class=\"colab-df-container\">\n",
              "    <button class=\"colab-df-convert\" onclick=\"convertToInteractive('df-8f9d154f-4509-4b2b-abe0-7a3274cf99d6')\"\n",
              "            title=\"Convert this dataframe to an interactive table.\"\n",
              "            style=\"display:none;\">\n",
              "\n",
              "  <svg xmlns=\"http://www.w3.org/2000/svg\" height=\"24px\" viewBox=\"0 -960 960 960\">\n",
              "    <path d=\"M120-120v-720h720v720H120Zm60-500h600v-160H180v160Zm220 220h160v-160H400v160Zm0 220h160v-160H400v160ZM180-400h160v-160H180v160Zm440 0h160v-160H620v160ZM180-180h160v-160H180v160Zm440 0h160v-160H620v160Z\"/>\n",
              "  </svg>\n",
              "    </button>\n",
              "\n",
              "  <style>\n",
              "    .colab-df-container {\n",
              "      display:flex;\n",
              "      gap: 12px;\n",
              "    }\n",
              "\n",
              "    .colab-df-convert {\n",
              "      background-color: #E8F0FE;\n",
              "      border: none;\n",
              "      border-radius: 50%;\n",
              "      cursor: pointer;\n",
              "      display: none;\n",
              "      fill: #1967D2;\n",
              "      height: 32px;\n",
              "      padding: 0 0 0 0;\n",
              "      width: 32px;\n",
              "    }\n",
              "\n",
              "    .colab-df-convert:hover {\n",
              "      background-color: #E2EBFA;\n",
              "      box-shadow: 0px 1px 2px rgba(60, 64, 67, 0.3), 0px 1px 3px 1px rgba(60, 64, 67, 0.15);\n",
              "      fill: #174EA6;\n",
              "    }\n",
              "\n",
              "    .colab-df-buttons div {\n",
              "      margin-bottom: 4px;\n",
              "    }\n",
              "\n",
              "    [theme=dark] .colab-df-convert {\n",
              "      background-color: #3B4455;\n",
              "      fill: #D2E3FC;\n",
              "    }\n",
              "\n",
              "    [theme=dark] .colab-df-convert:hover {\n",
              "      background-color: #434B5C;\n",
              "      box-shadow: 0px 1px 3px 1px rgba(0, 0, 0, 0.15);\n",
              "      filter: drop-shadow(0px 1px 2px rgba(0, 0, 0, 0.3));\n",
              "      fill: #FFFFFF;\n",
              "    }\n",
              "  </style>\n",
              "\n",
              "    <script>\n",
              "      const buttonEl =\n",
              "        document.querySelector('#df-8f9d154f-4509-4b2b-abe0-7a3274cf99d6 button.colab-df-convert');\n",
              "      buttonEl.style.display =\n",
              "        google.colab.kernel.accessAllowed ? 'block' : 'none';\n",
              "\n",
              "      async function convertToInteractive(key) {\n",
              "        const element = document.querySelector('#df-8f9d154f-4509-4b2b-abe0-7a3274cf99d6');\n",
              "        const dataTable =\n",
              "          await google.colab.kernel.invokeFunction('convertToInteractive',\n",
              "                                                    [key], {});\n",
              "        if (!dataTable) return;\n",
              "\n",
              "        const docLinkHtml = 'Like what you see? Visit the ' +\n",
              "          '<a target=\"_blank\" href=https://colab.research.google.com/notebooks/data_table.ipynb>data table notebook</a>'\n",
              "          + ' to learn more about interactive tables.';\n",
              "        element.innerHTML = '';\n",
              "        dataTable['output_type'] = 'display_data';\n",
              "        await google.colab.output.renderOutput(dataTable, element);\n",
              "        const docLink = document.createElement('div');\n",
              "        docLink.innerHTML = docLinkHtml;\n",
              "        element.appendChild(docLink);\n",
              "      }\n",
              "    </script>\n",
              "  </div>\n",
              "\n",
              "\n",
              "<div id=\"df-29639ecb-2736-4175-9ae5-939024b0de37\">\n",
              "  <button class=\"colab-df-quickchart\" onclick=\"quickchart('df-29639ecb-2736-4175-9ae5-939024b0de37')\"\n",
              "            title=\"Suggest charts\"\n",
              "            style=\"display:none;\">\n",
              "\n",
              "<svg xmlns=\"http://www.w3.org/2000/svg\" height=\"24px\"viewBox=\"0 0 24 24\"\n",
              "     width=\"24px\">\n",
              "    <g>\n",
              "        <path d=\"M19 3H5c-1.1 0-2 .9-2 2v14c0 1.1.9 2 2 2h14c1.1 0 2-.9 2-2V5c0-1.1-.9-2-2-2zM9 17H7v-7h2v7zm4 0h-2V7h2v10zm4 0h-2v-4h2v4z\"/>\n",
              "    </g>\n",
              "</svg>\n",
              "  </button>\n",
              "\n",
              "<style>\n",
              "  .colab-df-quickchart {\n",
              "      --bg-color: #E8F0FE;\n",
              "      --fill-color: #1967D2;\n",
              "      --hover-bg-color: #E2EBFA;\n",
              "      --hover-fill-color: #174EA6;\n",
              "      --disabled-fill-color: #AAA;\n",
              "      --disabled-bg-color: #DDD;\n",
              "  }\n",
              "\n",
              "  [theme=dark] .colab-df-quickchart {\n",
              "      --bg-color: #3B4455;\n",
              "      --fill-color: #D2E3FC;\n",
              "      --hover-bg-color: #434B5C;\n",
              "      --hover-fill-color: #FFFFFF;\n",
              "      --disabled-bg-color: #3B4455;\n",
              "      --disabled-fill-color: #666;\n",
              "  }\n",
              "\n",
              "  .colab-df-quickchart {\n",
              "    background-color: var(--bg-color);\n",
              "    border: none;\n",
              "    border-radius: 50%;\n",
              "    cursor: pointer;\n",
              "    display: none;\n",
              "    fill: var(--fill-color);\n",
              "    height: 32px;\n",
              "    padding: 0;\n",
              "    width: 32px;\n",
              "  }\n",
              "\n",
              "  .colab-df-quickchart:hover {\n",
              "    background-color: var(--hover-bg-color);\n",
              "    box-shadow: 0 1px 2px rgba(60, 64, 67, 0.3), 0 1px 3px 1px rgba(60, 64, 67, 0.15);\n",
              "    fill: var(--button-hover-fill-color);\n",
              "  }\n",
              "\n",
              "  .colab-df-quickchart-complete:disabled,\n",
              "  .colab-df-quickchart-complete:disabled:hover {\n",
              "    background-color: var(--disabled-bg-color);\n",
              "    fill: var(--disabled-fill-color);\n",
              "    box-shadow: none;\n",
              "  }\n",
              "\n",
              "  .colab-df-spinner {\n",
              "    border: 2px solid var(--fill-color);\n",
              "    border-color: transparent;\n",
              "    border-bottom-color: var(--fill-color);\n",
              "    animation:\n",
              "      spin 1s steps(1) infinite;\n",
              "  }\n",
              "\n",
              "  @keyframes spin {\n",
              "    0% {\n",
              "      border-color: transparent;\n",
              "      border-bottom-color: var(--fill-color);\n",
              "      border-left-color: var(--fill-color);\n",
              "    }\n",
              "    20% {\n",
              "      border-color: transparent;\n",
              "      border-left-color: var(--fill-color);\n",
              "      border-top-color: var(--fill-color);\n",
              "    }\n",
              "    30% {\n",
              "      border-color: transparent;\n",
              "      border-left-color: var(--fill-color);\n",
              "      border-top-color: var(--fill-color);\n",
              "      border-right-color: var(--fill-color);\n",
              "    }\n",
              "    40% {\n",
              "      border-color: transparent;\n",
              "      border-right-color: var(--fill-color);\n",
              "      border-top-color: var(--fill-color);\n",
              "    }\n",
              "    60% {\n",
              "      border-color: transparent;\n",
              "      border-right-color: var(--fill-color);\n",
              "    }\n",
              "    80% {\n",
              "      border-color: transparent;\n",
              "      border-right-color: var(--fill-color);\n",
              "      border-bottom-color: var(--fill-color);\n",
              "    }\n",
              "    90% {\n",
              "      border-color: transparent;\n",
              "      border-bottom-color: var(--fill-color);\n",
              "    }\n",
              "  }\n",
              "</style>\n",
              "\n",
              "  <script>\n",
              "    async function quickchart(key) {\n",
              "      const quickchartButtonEl =\n",
              "        document.querySelector('#' + key + ' button');\n",
              "      quickchartButtonEl.disabled = true;  // To prevent multiple clicks.\n",
              "      quickchartButtonEl.classList.add('colab-df-spinner');\n",
              "      try {\n",
              "        const charts = await google.colab.kernel.invokeFunction(\n",
              "            'suggestCharts', [key], {});\n",
              "      } catch (error) {\n",
              "        console.error('Error during call to suggestCharts:', error);\n",
              "      }\n",
              "      quickchartButtonEl.classList.remove('colab-df-spinner');\n",
              "      quickchartButtonEl.classList.add('colab-df-quickchart-complete');\n",
              "    }\n",
              "    (() => {\n",
              "      let quickchartButtonEl =\n",
              "        document.querySelector('#df-29639ecb-2736-4175-9ae5-939024b0de37 button');\n",
              "      quickchartButtonEl.style.display =\n",
              "        google.colab.kernel.accessAllowed ? 'block' : 'none';\n",
              "    })();\n",
              "  </script>\n",
              "</div>\n",
              "\n",
              "  <div id=\"id_62310f2f-344e-434c-8fd7-72d56f1805e2\">\n",
              "    <style>\n",
              "      .colab-df-generate {\n",
              "        background-color: #E8F0FE;\n",
              "        border: none;\n",
              "        border-radius: 50%;\n",
              "        cursor: pointer;\n",
              "        display: none;\n",
              "        fill: #1967D2;\n",
              "        height: 32px;\n",
              "        padding: 0 0 0 0;\n",
              "        width: 32px;\n",
              "      }\n",
              "\n",
              "      .colab-df-generate:hover {\n",
              "        background-color: #E2EBFA;\n",
              "        box-shadow: 0px 1px 2px rgba(60, 64, 67, 0.3), 0px 1px 3px 1px rgba(60, 64, 67, 0.15);\n",
              "        fill: #174EA6;\n",
              "      }\n",
              "\n",
              "      [theme=dark] .colab-df-generate {\n",
              "        background-color: #3B4455;\n",
              "        fill: #D2E3FC;\n",
              "      }\n",
              "\n",
              "      [theme=dark] .colab-df-generate:hover {\n",
              "        background-color: #434B5C;\n",
              "        box-shadow: 0px 1px 3px 1px rgba(0, 0, 0, 0.15);\n",
              "        filter: drop-shadow(0px 1px 2px rgba(0, 0, 0, 0.3));\n",
              "        fill: #FFFFFF;\n",
              "      }\n",
              "    </style>\n",
              "    <button class=\"colab-df-generate\" onclick=\"generateWithVariable('joined_df')\"\n",
              "            title=\"Generate code using this dataframe.\"\n",
              "            style=\"display:none;\">\n",
              "\n",
              "  <svg xmlns=\"http://www.w3.org/2000/svg\" height=\"24px\"viewBox=\"0 0 24 24\"\n",
              "       width=\"24px\">\n",
              "    <path d=\"M7,19H8.4L18.45,9,17,7.55,7,17.6ZM5,21V16.75L18.45,3.32a2,2,0,0,1,2.83,0l1.4,1.43a1.91,1.91,0,0,1,.58,1.4,1.91,1.91,0,0,1-.58,1.4L9.25,21ZM18.45,9,17,7.55Zm-12,3A5.31,5.31,0,0,0,4.9,8.1,5.31,5.31,0,0,0,1,6.5,5.31,5.31,0,0,0,4.9,4.9,5.31,5.31,0,0,0,6.5,1,5.31,5.31,0,0,0,8.1,4.9,5.31,5.31,0,0,0,12,6.5,5.46,5.46,0,0,0,6.5,12Z\"/>\n",
              "  </svg>\n",
              "    </button>\n",
              "    <script>\n",
              "      (() => {\n",
              "      const buttonEl =\n",
              "        document.querySelector('#id_62310f2f-344e-434c-8fd7-72d56f1805e2 button.colab-df-generate');\n",
              "      buttonEl.style.display =\n",
              "        google.colab.kernel.accessAllowed ? 'block' : 'none';\n",
              "\n",
              "      buttonEl.onclick = () => {\n",
              "        google.colab.notebook.generateWithVariable('joined_df');\n",
              "      }\n",
              "      })();\n",
              "    </script>\n",
              "  </div>\n",
              "\n",
              "    </div>\n",
              "  </div>\n"
            ],
            "application/vnd.google.colaboratory.intrinsic+json": {
              "type": "dataframe",
              "variable_name": "joined_df",
              "summary": "{\n  \"name\": \"joined_df\",\n  \"rows\": 6,\n  \"fields\": [\n    {\n      \"column\": \"id_x\",\n      \"properties\": {\n        \"dtype\": \"number\",\n        \"std\": 1,\n        \"min\": 1,\n        \"max\": 4,\n        \"num_unique_values\": 4,\n        \"samples\": [\n          2,\n          4,\n          1\n        ],\n        \"semantic_type\": \"\",\n        \"description\": \"\"\n      }\n    },\n    {\n      \"column\": \"name\",\n      \"properties\": {\n        \"dtype\": \"string\",\n        \"num_unique_values\": 4,\n        \"samples\": [\n          \"rob\",\n          \"tom\",\n          \"bob\"\n        ],\n        \"semantic_type\": \"\",\n        \"description\": \"\"\n      }\n    },\n    {\n      \"column\": \"credit_card_number\",\n      \"properties\": {\n        \"dtype\": \"number\",\n        \"std\": 2386180225057,\n        \"min\": 3462543658686,\n        \"max\": 9087567565439,\n        \"num_unique_values\": 4,\n        \"samples\": [\n          9087567565439,\n          8349756853250,\n          3462543658686\n        ],\n        \"semantic_type\": \"\",\n        \"description\": \"\"\n      }\n    },\n    {\n      \"column\": \"id_y\",\n      \"properties\": {\n        \"dtype\": \"number\",\n        \"std\": 1,\n        \"min\": 1,\n        \"max\": 6,\n        \"num_unique_values\": 6,\n        \"samples\": [\n          1,\n          2,\n          6\n        ],\n        \"semantic_type\": \"\",\n        \"description\": \"\"\n      }\n    },\n    {\n      \"column\": \"product_name\",\n      \"properties\": {\n        \"dtype\": \"string\",\n        \"num_unique_values\": 6,\n        \"samples\": [\n          \"ketchup\",\n          \"rutabaga\",\n          \"protein powder\"\n        ],\n        \"semantic_type\": \"\",\n        \"description\": \"\"\n      }\n    },\n    {\n      \"column\": \"customer\",\n      \"properties\": {\n        \"dtype\": \"string\",\n        \"num_unique_values\": 4,\n        \"samples\": [\n          \"rob\",\n          \"tom\",\n          \"bob\"\n        ],\n        \"semantic_type\": \"\",\n        \"description\": \"\"\n      }\n    },\n    {\n      \"column\": \"price\",\n      \"properties\": {\n        \"dtype\": \"number\",\n        \"std\": 18.67925881827221,\n        \"min\": 1.2,\n        \"max\": 49.95,\n        \"num_unique_values\": 6,\n        \"samples\": [\n          1.2,\n          3.35,\n          49.95\n        ],\n        \"semantic_type\": \"\",\n        \"description\": \"\"\n      }\n    }\n  ]\n}"
            }
          },
          "metadata": {},
          "execution_count": 14
        }
      ],
      "source": [
        "customer_df = pd.DataFrame(customer_raw, columns=customer_cols)\n",
        "orders_df = pd.DataFrame(orders_raw, columns=orders_cols)\n",
        "\n",
        "customer_df\n",
        "\n",
        "joined_df = pd.merge(customer_df, orders_df, how='inner', left_on='name', right_on='customer')\n",
        "joined_df\n",
        "\n",
        "## For self study. What happens if (4, 'tom', 8349756853250) in valuesA becomes (4, 'tod', 8349756853250)\n",
        "## How do the results change?\n",
        "## More sensibly; what if customers have not made any orders but we still require them in the result set?"
      ]
    },
    {
      "cell_type": "markdown",
      "metadata": {
        "id": "pk0C4NISPagw"
      },
      "source": [
        "#### JOIN: Spark"
      ]
    },
    {
      "cell_type": "code",
      "execution_count": null,
      "metadata": {
        "id": "XrWtxxARPagw",
        "colab": {
          "base_uri": "https://localhost:8080/"
        },
        "outputId": "c43fcd0a-5b82-4e2d-f550-a341f7c26498"
      },
      "outputs": [
        {
          "output_type": "stream",
          "name": "stdout",
          "text": [
            "+---+----+------------------+\n",
            "| id|name|credit_card_number|\n",
            "+---+----+------------------+\n",
            "|  1| bob|     3462543658686|\n",
            "|  2| rob|     9087567565439|\n",
            "|  3| tim|     5436586999467|\n",
            "|  4| tom|     8349756853250|\n",
            "+---+----+------------------+\n",
            "\n",
            "+---+---------------+--------+-----+\n",
            "| id|   product_name|customer|price|\n",
            "+---+---------------+--------+-----+\n",
            "|  1|        ketchup|     bob|  1.2|\n",
            "|  2|       rutabaga|     bob| 3.35|\n",
            "|  3|fake vegan meat|     rob|13.99|\n",
            "|  4|  cheesey poofs|     tim| 3.99|\n",
            "|  5|      ice cream|     tim| 4.95|\n",
            "|  6| protein powder|     tom|49.95|\n",
            "+---+---------------+--------+-----+\n",
            "\n"
          ]
        }
      ],
      "source": [
        "customersDF = spark.createDataFrame(customer_raw, customer_cols)\n",
        "\n",
        "ordersDF = spark.createDataFrame(orders_raw, orders_cols)\n",
        "\n",
        "# Show tables\n",
        "customersDF.show()\n",
        "ordersDF.show()"
      ]
    },
    {
      "cell_type": "code",
      "execution_count": null,
      "metadata": {
        "id": "khF1nHX5Pagx",
        "colab": {
          "base_uri": "https://localhost:8080/"
        },
        "outputId": "16abc315-98fc-48e1-8e90-93d18f0675d2"
      },
      "outputs": [
        {
          "output_type": "stream",
          "name": "stdout",
          "text": [
            "+---+----+------------------+---+---------------+--------+-----+\n",
            "| id|name|credit_card_number| id|   product_name|customer|price|\n",
            "+---+----+------------------+---+---------------+--------+-----+\n",
            "|  1| bob|     3462543658686|  1|        ketchup|     bob|  1.2|\n",
            "|  1| bob|     3462543658686|  2|       rutabaga|     bob| 3.35|\n",
            "|  2| rob|     9087567565439|  3|fake vegan meat|     rob|13.99|\n",
            "|  3| tim|     5436586999467|  4|  cheesey poofs|     tim| 3.99|\n",
            "|  3| tim|     5436586999467|  5|      ice cream|     tim| 4.95|\n",
            "|  4| tom|     8349756853250|  6| protein powder|     tom|49.95|\n",
            "+---+----+------------------+---+---------------+--------+-----+\n",
            "\n"
          ]
        }
      ],
      "source": [
        "joinedDF = customersDF.join(ordersDF, customersDF.name == ordersDF.customer)\n",
        "joinedDF.show()"
      ]
    },
    {
      "cell_type": "markdown",
      "metadata": {
        "id": "yVNPI9NIPagx"
      },
      "source": [
        "## Simple Aggregations\n",
        "\n",
        "Now let's explore simple aggregations. You will be using these often when doing exploratory work in big data. Remember, the intention here is that you grow familiar with the way the API works, and how to translate inquiries into that API."
      ]
    },
    {
      "cell_type": "markdown",
      "metadata": {
        "id": "9_X2TsWHPagx"
      },
      "source": [
        "> _How much did each person spend?_"
      ]
    },
    {
      "cell_type": "code",
      "execution_count": null,
      "metadata": {
        "id": "Y2lahGCfPagx",
        "colab": {
          "base_uri": "https://localhost:8080/",
          "height": 237
        },
        "outputId": "34143480-0c0a-4176-81f6-81bce447d581"
      },
      "outputs": [
        {
          "output_type": "execute_result",
          "data": {
            "text/plain": [
              "      price\n",
              "        sum\n",
              "name       \n",
              "bob    4.55\n",
              "rob   13.99\n",
              "tim    8.94\n",
              "tom   49.95"
            ],
            "text/html": [
              "\n",
              "  <div id=\"df-a9290791-40ed-4ea5-92db-c9d614be0c87\" class=\"colab-df-container\">\n",
              "    <div>\n",
              "<style scoped>\n",
              "    .dataframe tbody tr th:only-of-type {\n",
              "        vertical-align: middle;\n",
              "    }\n",
              "\n",
              "    .dataframe tbody tr th {\n",
              "        vertical-align: top;\n",
              "    }\n",
              "\n",
              "    .dataframe thead tr th {\n",
              "        text-align: left;\n",
              "    }\n",
              "\n",
              "    .dataframe thead tr:last-of-type th {\n",
              "        text-align: right;\n",
              "    }\n",
              "</style>\n",
              "<table border=\"1\" class=\"dataframe\">\n",
              "  <thead>\n",
              "    <tr>\n",
              "      <th></th>\n",
              "      <th>price</th>\n",
              "    </tr>\n",
              "    <tr>\n",
              "      <th></th>\n",
              "      <th>sum</th>\n",
              "    </tr>\n",
              "    <tr>\n",
              "      <th>name</th>\n",
              "      <th></th>\n",
              "    </tr>\n",
              "  </thead>\n",
              "  <tbody>\n",
              "    <tr>\n",
              "      <th>bob</th>\n",
              "      <td>4.55</td>\n",
              "    </tr>\n",
              "    <tr>\n",
              "      <th>rob</th>\n",
              "      <td>13.99</td>\n",
              "    </tr>\n",
              "    <tr>\n",
              "      <th>tim</th>\n",
              "      <td>8.94</td>\n",
              "    </tr>\n",
              "    <tr>\n",
              "      <th>tom</th>\n",
              "      <td>49.95</td>\n",
              "    </tr>\n",
              "  </tbody>\n",
              "</table>\n",
              "</div>\n",
              "    <div class=\"colab-df-buttons\">\n",
              "\n",
              "  <div class=\"colab-df-container\">\n",
              "    <button class=\"colab-df-convert\" onclick=\"convertToInteractive('df-a9290791-40ed-4ea5-92db-c9d614be0c87')\"\n",
              "            title=\"Convert this dataframe to an interactive table.\"\n",
              "            style=\"display:none;\">\n",
              "\n",
              "  <svg xmlns=\"http://www.w3.org/2000/svg\" height=\"24px\" viewBox=\"0 -960 960 960\">\n",
              "    <path d=\"M120-120v-720h720v720H120Zm60-500h600v-160H180v160Zm220 220h160v-160H400v160Zm0 220h160v-160H400v160ZM180-400h160v-160H180v160Zm440 0h160v-160H620v160ZM180-180h160v-160H180v160Zm440 0h160v-160H620v160Z\"/>\n",
              "  </svg>\n",
              "    </button>\n",
              "\n",
              "  <style>\n",
              "    .colab-df-container {\n",
              "      display:flex;\n",
              "      gap: 12px;\n",
              "    }\n",
              "\n",
              "    .colab-df-convert {\n",
              "      background-color: #E8F0FE;\n",
              "      border: none;\n",
              "      border-radius: 50%;\n",
              "      cursor: pointer;\n",
              "      display: none;\n",
              "      fill: #1967D2;\n",
              "      height: 32px;\n",
              "      padding: 0 0 0 0;\n",
              "      width: 32px;\n",
              "    }\n",
              "\n",
              "    .colab-df-convert:hover {\n",
              "      background-color: #E2EBFA;\n",
              "      box-shadow: 0px 1px 2px rgba(60, 64, 67, 0.3), 0px 1px 3px 1px rgba(60, 64, 67, 0.15);\n",
              "      fill: #174EA6;\n",
              "    }\n",
              "\n",
              "    .colab-df-buttons div {\n",
              "      margin-bottom: 4px;\n",
              "    }\n",
              "\n",
              "    [theme=dark] .colab-df-convert {\n",
              "      background-color: #3B4455;\n",
              "      fill: #D2E3FC;\n",
              "    }\n",
              "\n",
              "    [theme=dark] .colab-df-convert:hover {\n",
              "      background-color: #434B5C;\n",
              "      box-shadow: 0px 1px 3px 1px rgba(0, 0, 0, 0.15);\n",
              "      filter: drop-shadow(0px 1px 2px rgba(0, 0, 0, 0.3));\n",
              "      fill: #FFFFFF;\n",
              "    }\n",
              "  </style>\n",
              "\n",
              "    <script>\n",
              "      const buttonEl =\n",
              "        document.querySelector('#df-a9290791-40ed-4ea5-92db-c9d614be0c87 button.colab-df-convert');\n",
              "      buttonEl.style.display =\n",
              "        google.colab.kernel.accessAllowed ? 'block' : 'none';\n",
              "\n",
              "      async function convertToInteractive(key) {\n",
              "        const element = document.querySelector('#df-a9290791-40ed-4ea5-92db-c9d614be0c87');\n",
              "        const dataTable =\n",
              "          await google.colab.kernel.invokeFunction('convertToInteractive',\n",
              "                                                    [key], {});\n",
              "        if (!dataTable) return;\n",
              "\n",
              "        const docLinkHtml = 'Like what you see? Visit the ' +\n",
              "          '<a target=\"_blank\" href=https://colab.research.google.com/notebooks/data_table.ipynb>data table notebook</a>'\n",
              "          + ' to learn more about interactive tables.';\n",
              "        element.innerHTML = '';\n",
              "        dataTable['output_type'] = 'display_data';\n",
              "        await google.colab.output.renderOutput(dataTable, element);\n",
              "        const docLink = document.createElement('div');\n",
              "        docLink.innerHTML = docLinkHtml;\n",
              "        element.appendChild(docLink);\n",
              "      }\n",
              "    </script>\n",
              "  </div>\n",
              "\n",
              "\n",
              "<div id=\"df-4489a45a-07a3-47ce-89c5-f3a4e73da7f6\">\n",
              "  <button class=\"colab-df-quickchart\" onclick=\"quickchart('df-4489a45a-07a3-47ce-89c5-f3a4e73da7f6')\"\n",
              "            title=\"Suggest charts\"\n",
              "            style=\"display:none;\">\n",
              "\n",
              "<svg xmlns=\"http://www.w3.org/2000/svg\" height=\"24px\"viewBox=\"0 0 24 24\"\n",
              "     width=\"24px\">\n",
              "    <g>\n",
              "        <path d=\"M19 3H5c-1.1 0-2 .9-2 2v14c0 1.1.9 2 2 2h14c1.1 0 2-.9 2-2V5c0-1.1-.9-2-2-2zM9 17H7v-7h2v7zm4 0h-2V7h2v10zm4 0h-2v-4h2v4z\"/>\n",
              "    </g>\n",
              "</svg>\n",
              "  </button>\n",
              "\n",
              "<style>\n",
              "  .colab-df-quickchart {\n",
              "      --bg-color: #E8F0FE;\n",
              "      --fill-color: #1967D2;\n",
              "      --hover-bg-color: #E2EBFA;\n",
              "      --hover-fill-color: #174EA6;\n",
              "      --disabled-fill-color: #AAA;\n",
              "      --disabled-bg-color: #DDD;\n",
              "  }\n",
              "\n",
              "  [theme=dark] .colab-df-quickchart {\n",
              "      --bg-color: #3B4455;\n",
              "      --fill-color: #D2E3FC;\n",
              "      --hover-bg-color: #434B5C;\n",
              "      --hover-fill-color: #FFFFFF;\n",
              "      --disabled-bg-color: #3B4455;\n",
              "      --disabled-fill-color: #666;\n",
              "  }\n",
              "\n",
              "  .colab-df-quickchart {\n",
              "    background-color: var(--bg-color);\n",
              "    border: none;\n",
              "    border-radius: 50%;\n",
              "    cursor: pointer;\n",
              "    display: none;\n",
              "    fill: var(--fill-color);\n",
              "    height: 32px;\n",
              "    padding: 0;\n",
              "    width: 32px;\n",
              "  }\n",
              "\n",
              "  .colab-df-quickchart:hover {\n",
              "    background-color: var(--hover-bg-color);\n",
              "    box-shadow: 0 1px 2px rgba(60, 64, 67, 0.3), 0 1px 3px 1px rgba(60, 64, 67, 0.15);\n",
              "    fill: var(--button-hover-fill-color);\n",
              "  }\n",
              "\n",
              "  .colab-df-quickchart-complete:disabled,\n",
              "  .colab-df-quickchart-complete:disabled:hover {\n",
              "    background-color: var(--disabled-bg-color);\n",
              "    fill: var(--disabled-fill-color);\n",
              "    box-shadow: none;\n",
              "  }\n",
              "\n",
              "  .colab-df-spinner {\n",
              "    border: 2px solid var(--fill-color);\n",
              "    border-color: transparent;\n",
              "    border-bottom-color: var(--fill-color);\n",
              "    animation:\n",
              "      spin 1s steps(1) infinite;\n",
              "  }\n",
              "\n",
              "  @keyframes spin {\n",
              "    0% {\n",
              "      border-color: transparent;\n",
              "      border-bottom-color: var(--fill-color);\n",
              "      border-left-color: var(--fill-color);\n",
              "    }\n",
              "    20% {\n",
              "      border-color: transparent;\n",
              "      border-left-color: var(--fill-color);\n",
              "      border-top-color: var(--fill-color);\n",
              "    }\n",
              "    30% {\n",
              "      border-color: transparent;\n",
              "      border-left-color: var(--fill-color);\n",
              "      border-top-color: var(--fill-color);\n",
              "      border-right-color: var(--fill-color);\n",
              "    }\n",
              "    40% {\n",
              "      border-color: transparent;\n",
              "      border-right-color: var(--fill-color);\n",
              "      border-top-color: var(--fill-color);\n",
              "    }\n",
              "    60% {\n",
              "      border-color: transparent;\n",
              "      border-right-color: var(--fill-color);\n",
              "    }\n",
              "    80% {\n",
              "      border-color: transparent;\n",
              "      border-right-color: var(--fill-color);\n",
              "      border-bottom-color: var(--fill-color);\n",
              "    }\n",
              "    90% {\n",
              "      border-color: transparent;\n",
              "      border-bottom-color: var(--fill-color);\n",
              "    }\n",
              "  }\n",
              "</style>\n",
              "\n",
              "  <script>\n",
              "    async function quickchart(key) {\n",
              "      const quickchartButtonEl =\n",
              "        document.querySelector('#' + key + ' button');\n",
              "      quickchartButtonEl.disabled = true;  // To prevent multiple clicks.\n",
              "      quickchartButtonEl.classList.add('colab-df-spinner');\n",
              "      try {\n",
              "        const charts = await google.colab.kernel.invokeFunction(\n",
              "            'suggestCharts', [key], {});\n",
              "      } catch (error) {\n",
              "        console.error('Error during call to suggestCharts:', error);\n",
              "      }\n",
              "      quickchartButtonEl.classList.remove('colab-df-spinner');\n",
              "      quickchartButtonEl.classList.add('colab-df-quickchart-complete');\n",
              "    }\n",
              "    (() => {\n",
              "      let quickchartButtonEl =\n",
              "        document.querySelector('#df-4489a45a-07a3-47ce-89c5-f3a4e73da7f6 button');\n",
              "      quickchartButtonEl.style.display =\n",
              "        google.colab.kernel.accessAllowed ? 'block' : 'none';\n",
              "    })();\n",
              "  </script>\n",
              "</div>\n",
              "\n",
              "    </div>\n",
              "  </div>\n"
            ],
            "application/vnd.google.colaboratory.intrinsic+json": {
              "type": "dataframe",
              "summary": "{\n  \"name\": \"joined_df\",\n  \"rows\": 4,\n  \"fields\": [\n    {\n      \"column\": [\n        \"name\",\n        \"\"\n      ],\n      \"properties\": {\n        \"dtype\": \"string\",\n        \"num_unique_values\": 4,\n        \"samples\": [\n          \"rob\",\n          \"tom\",\n          \"bob\"\n        ],\n        \"semantic_type\": \"\",\n        \"description\": \"\"\n      }\n    },\n    {\n      \"column\": [\n        \"price\",\n        \"sum\"\n      ],\n      \"properties\": {\n        \"dtype\": \"number\",\n        \"std\": 20.75650480371555,\n        \"min\": 4.55,\n        \"max\": 49.95,\n        \"num_unique_values\": 4,\n        \"samples\": [\n          13.99,\n          49.95,\n          4.55\n        ],\n        \"semantic_type\": \"\",\n        \"description\": \"\"\n      }\n    }\n  ]\n}"
            }
          },
          "metadata": {},
          "execution_count": 17
        }
      ],
      "source": [
        "joined_df.groupby('name').agg({\"price\": [\"sum\"]})"
      ]
    },
    {
      "cell_type": "code",
      "execution_count": null,
      "metadata": {
        "id": "a7Q8_3AYPagx",
        "colab": {
          "base_uri": "https://localhost:8080/"
        },
        "outputId": "5e8e949a-c220-4d30-da04-31d6d4e74077"
      },
      "outputs": [
        {
          "output_type": "stream",
          "name": "stdout",
          "text": [
            "+----+-----------------+\n",
            "|name|            total|\n",
            "+----+-----------------+\n",
            "| bob|             4.55|\n",
            "| rob|            13.99|\n",
            "| tim|8.940000000000001|\n",
            "| tom|            49.95|\n",
            "+----+-----------------+\n",
            "\n"
          ]
        }
      ],
      "source": [
        "import pyspark.sql.functions as f\n",
        "\n",
        "joinedDF.groupby('name').agg(f.sum('price').alias('total')).show()"
      ]
    },
    {
      "cell_type": "markdown",
      "metadata": {
        "id": "cjP8vsvGPagx"
      },
      "source": [
        "Let's use bigger data\n",
        "  * NYC crash data"
      ]
    },
    {
      "cell_type": "code",
      "execution_count": null,
      "metadata": {
        "id": "s6Kiyv53Pagx",
        "colab": {
          "base_uri": "https://localhost:8080/"
        },
        "outputId": "60672deb-2be9-4d8b-fec9-aafe7d184e05"
      },
      "outputs": [
        {
          "output_type": "stream",
          "name": "stdout",
          "text": [
            "  % Total    % Received % Xferd  Average Speed   Time    Time     Time  Current\n",
            "                                 Dload  Upload   Total   Spent    Left  Speed\n",
            "100  427M    0  427M    0     0  4044k      0 --:--:--  0:01:48 --:--:-- 2542k\n"
          ]
        }
      ],
      "source": [
        "# save to the filesystem to prevent another load\n",
        "! curl -o rows.csv https://data.cityofnewyork.us/api/views/h9gi-nx95/rows.csv"
      ]
    },
    {
      "cell_type": "code",
      "execution_count": null,
      "metadata": {
        "id": "nW6xkjgFPagx",
        "colab": {
          "base_uri": "https://localhost:8080/"
        },
        "outputId": "08e3e454-5dd3-4d32-b839-768aa23789eb"
      },
      "outputs": [
        {
          "output_type": "stream",
          "name": "stderr",
          "text": [
            "<ipython-input-22-a70f860f02a9>:2: DtypeWarning: Columns (3) have mixed types. Specify dtype option on import or set low_memory=False.\n",
            "  nyc_df = pd.read_csv('rows.csv')\n"
          ]
        }
      ],
      "source": [
        "import pandas as pd\n",
        "nyc_df = pd.read_csv('rows.csv')"
      ]
    },
    {
      "cell_type": "code",
      "execution_count": null,
      "metadata": {
        "id": "0-RscObWPagx",
        "colab": {
          "base_uri": "https://localhost:8080/"
        },
        "outputId": "9d8ddc97-f7a8-41f4-fa97-1acbbbbab98c"
      },
      "outputs": [
        {
          "output_type": "stream",
          "name": "stdout",
          "text": [
            "2117343\n"
          ]
        }
      ],
      "source": [
        "# number or rows\n",
        "\n",
        "print(len(nyc_df))\n",
        "\n",
        "# this is quite large so we will work with a sample while we experiment in pandas as least."
      ]
    },
    {
      "cell_type": "markdown",
      "metadata": {
        "id": "uaBab4bsPagy"
      },
      "source": [
        "We'll take a random sample at 20% of the original data"
      ]
    },
    {
      "cell_type": "code",
      "execution_count": null,
      "metadata": {
        "id": "CHQhSXrpPagy"
      },
      "outputs": [],
      "source": [
        "nyc_small = nyc_df.sample(frac=0.2, replace=False, random_state=1)"
      ]
    },
    {
      "cell_type": "code",
      "execution_count": null,
      "metadata": {
        "id": "onlUYjIMPagy"
      },
      "outputs": [],
      "source": [
        "# we are also going to limit the columns to those we are going to work with\n",
        "\n",
        "nyc_small = nyc_small[['CRASH DATE', 'CONTRIBUTING FACTOR VEHICLE 1',\n",
        "                       'BOROUGH', 'VEHICLE TYPE CODE 1',\n",
        "                       'NUMBER OF PERSONS INJURED']]"
      ]
    },
    {
      "cell_type": "code",
      "execution_count": null,
      "metadata": {
        "id": "pI5Lp73hPagy",
        "colab": {
          "base_uri": "https://localhost:8080/",
          "height": 112
        },
        "outputId": "4ba04cd7-99e0-4c0b-8e26-666c92724123"
      },
      "outputs": [
        {
          "output_type": "execute_result",
          "data": {
            "text/plain": [
              "         CRASH DATE CONTRIBUTING FACTOR VEHICLE 1   BOROUGH  \\\n",
              "1261810  09/18/2015                   Unspecified       NaN   \n",
              "1615108  01/05/2014           Alcohol Involvement  BROOKLYN   \n",
              "\n",
              "        VEHICLE TYPE CODE 1  NUMBER OF PERSONS INJURED  \n",
              "1261810   PASSENGER VEHICLE                        2.0  \n",
              "1615108   PASSENGER VEHICLE                        0.0  "
            ],
            "text/html": [
              "\n",
              "  <div id=\"df-8b4c1ee8-2879-42dd-bbc7-8d765e05deb5\" class=\"colab-df-container\">\n",
              "    <div>\n",
              "<style scoped>\n",
              "    .dataframe tbody tr th:only-of-type {\n",
              "        vertical-align: middle;\n",
              "    }\n",
              "\n",
              "    .dataframe tbody tr th {\n",
              "        vertical-align: top;\n",
              "    }\n",
              "\n",
              "    .dataframe thead th {\n",
              "        text-align: right;\n",
              "    }\n",
              "</style>\n",
              "<table border=\"1\" class=\"dataframe\">\n",
              "  <thead>\n",
              "    <tr style=\"text-align: right;\">\n",
              "      <th></th>\n",
              "      <th>CRASH DATE</th>\n",
              "      <th>CONTRIBUTING FACTOR VEHICLE 1</th>\n",
              "      <th>BOROUGH</th>\n",
              "      <th>VEHICLE TYPE CODE 1</th>\n",
              "      <th>NUMBER OF PERSONS INJURED</th>\n",
              "    </tr>\n",
              "  </thead>\n",
              "  <tbody>\n",
              "    <tr>\n",
              "      <th>1261810</th>\n",
              "      <td>09/18/2015</td>\n",
              "      <td>Unspecified</td>\n",
              "      <td>NaN</td>\n",
              "      <td>PASSENGER VEHICLE</td>\n",
              "      <td>2.0</td>\n",
              "    </tr>\n",
              "    <tr>\n",
              "      <th>1615108</th>\n",
              "      <td>01/05/2014</td>\n",
              "      <td>Alcohol Involvement</td>\n",
              "      <td>BROOKLYN</td>\n",
              "      <td>PASSENGER VEHICLE</td>\n",
              "      <td>0.0</td>\n",
              "    </tr>\n",
              "  </tbody>\n",
              "</table>\n",
              "</div>\n",
              "    <div class=\"colab-df-buttons\">\n",
              "\n",
              "  <div class=\"colab-df-container\">\n",
              "    <button class=\"colab-df-convert\" onclick=\"convertToInteractive('df-8b4c1ee8-2879-42dd-bbc7-8d765e05deb5')\"\n",
              "            title=\"Convert this dataframe to an interactive table.\"\n",
              "            style=\"display:none;\">\n",
              "\n",
              "  <svg xmlns=\"http://www.w3.org/2000/svg\" height=\"24px\" viewBox=\"0 -960 960 960\">\n",
              "    <path d=\"M120-120v-720h720v720H120Zm60-500h600v-160H180v160Zm220 220h160v-160H400v160Zm0 220h160v-160H400v160ZM180-400h160v-160H180v160Zm440 0h160v-160H620v160ZM180-180h160v-160H180v160Zm440 0h160v-160H620v160Z\"/>\n",
              "  </svg>\n",
              "    </button>\n",
              "\n",
              "  <style>\n",
              "    .colab-df-container {\n",
              "      display:flex;\n",
              "      gap: 12px;\n",
              "    }\n",
              "\n",
              "    .colab-df-convert {\n",
              "      background-color: #E8F0FE;\n",
              "      border: none;\n",
              "      border-radius: 50%;\n",
              "      cursor: pointer;\n",
              "      display: none;\n",
              "      fill: #1967D2;\n",
              "      height: 32px;\n",
              "      padding: 0 0 0 0;\n",
              "      width: 32px;\n",
              "    }\n",
              "\n",
              "    .colab-df-convert:hover {\n",
              "      background-color: #E2EBFA;\n",
              "      box-shadow: 0px 1px 2px rgba(60, 64, 67, 0.3), 0px 1px 3px 1px rgba(60, 64, 67, 0.15);\n",
              "      fill: #174EA6;\n",
              "    }\n",
              "\n",
              "    .colab-df-buttons div {\n",
              "      margin-bottom: 4px;\n",
              "    }\n",
              "\n",
              "    [theme=dark] .colab-df-convert {\n",
              "      background-color: #3B4455;\n",
              "      fill: #D2E3FC;\n",
              "    }\n",
              "\n",
              "    [theme=dark] .colab-df-convert:hover {\n",
              "      background-color: #434B5C;\n",
              "      box-shadow: 0px 1px 3px 1px rgba(0, 0, 0, 0.15);\n",
              "      filter: drop-shadow(0px 1px 2px rgba(0, 0, 0, 0.3));\n",
              "      fill: #FFFFFF;\n",
              "    }\n",
              "  </style>\n",
              "\n",
              "    <script>\n",
              "      const buttonEl =\n",
              "        document.querySelector('#df-8b4c1ee8-2879-42dd-bbc7-8d765e05deb5 button.colab-df-convert');\n",
              "      buttonEl.style.display =\n",
              "        google.colab.kernel.accessAllowed ? 'block' : 'none';\n",
              "\n",
              "      async function convertToInteractive(key) {\n",
              "        const element = document.querySelector('#df-8b4c1ee8-2879-42dd-bbc7-8d765e05deb5');\n",
              "        const dataTable =\n",
              "          await google.colab.kernel.invokeFunction('convertToInteractive',\n",
              "                                                    [key], {});\n",
              "        if (!dataTable) return;\n",
              "\n",
              "        const docLinkHtml = 'Like what you see? Visit the ' +\n",
              "          '<a target=\"_blank\" href=https://colab.research.google.com/notebooks/data_table.ipynb>data table notebook</a>'\n",
              "          + ' to learn more about interactive tables.';\n",
              "        element.innerHTML = '';\n",
              "        dataTable['output_type'] = 'display_data';\n",
              "        await google.colab.output.renderOutput(dataTable, element);\n",
              "        const docLink = document.createElement('div');\n",
              "        docLink.innerHTML = docLinkHtml;\n",
              "        element.appendChild(docLink);\n",
              "      }\n",
              "    </script>\n",
              "  </div>\n",
              "\n",
              "\n",
              "<div id=\"df-f02d7bd6-51d3-4264-9e8c-7b153c350790\">\n",
              "  <button class=\"colab-df-quickchart\" onclick=\"quickchart('df-f02d7bd6-51d3-4264-9e8c-7b153c350790')\"\n",
              "            title=\"Suggest charts\"\n",
              "            style=\"display:none;\">\n",
              "\n",
              "<svg xmlns=\"http://www.w3.org/2000/svg\" height=\"24px\"viewBox=\"0 0 24 24\"\n",
              "     width=\"24px\">\n",
              "    <g>\n",
              "        <path d=\"M19 3H5c-1.1 0-2 .9-2 2v14c0 1.1.9 2 2 2h14c1.1 0 2-.9 2-2V5c0-1.1-.9-2-2-2zM9 17H7v-7h2v7zm4 0h-2V7h2v10zm4 0h-2v-4h2v4z\"/>\n",
              "    </g>\n",
              "</svg>\n",
              "  </button>\n",
              "\n",
              "<style>\n",
              "  .colab-df-quickchart {\n",
              "      --bg-color: #E8F0FE;\n",
              "      --fill-color: #1967D2;\n",
              "      --hover-bg-color: #E2EBFA;\n",
              "      --hover-fill-color: #174EA6;\n",
              "      --disabled-fill-color: #AAA;\n",
              "      --disabled-bg-color: #DDD;\n",
              "  }\n",
              "\n",
              "  [theme=dark] .colab-df-quickchart {\n",
              "      --bg-color: #3B4455;\n",
              "      --fill-color: #D2E3FC;\n",
              "      --hover-bg-color: #434B5C;\n",
              "      --hover-fill-color: #FFFFFF;\n",
              "      --disabled-bg-color: #3B4455;\n",
              "      --disabled-fill-color: #666;\n",
              "  }\n",
              "\n",
              "  .colab-df-quickchart {\n",
              "    background-color: var(--bg-color);\n",
              "    border: none;\n",
              "    border-radius: 50%;\n",
              "    cursor: pointer;\n",
              "    display: none;\n",
              "    fill: var(--fill-color);\n",
              "    height: 32px;\n",
              "    padding: 0;\n",
              "    width: 32px;\n",
              "  }\n",
              "\n",
              "  .colab-df-quickchart:hover {\n",
              "    background-color: var(--hover-bg-color);\n",
              "    box-shadow: 0 1px 2px rgba(60, 64, 67, 0.3), 0 1px 3px 1px rgba(60, 64, 67, 0.15);\n",
              "    fill: var(--button-hover-fill-color);\n",
              "  }\n",
              "\n",
              "  .colab-df-quickchart-complete:disabled,\n",
              "  .colab-df-quickchart-complete:disabled:hover {\n",
              "    background-color: var(--disabled-bg-color);\n",
              "    fill: var(--disabled-fill-color);\n",
              "    box-shadow: none;\n",
              "  }\n",
              "\n",
              "  .colab-df-spinner {\n",
              "    border: 2px solid var(--fill-color);\n",
              "    border-color: transparent;\n",
              "    border-bottom-color: var(--fill-color);\n",
              "    animation:\n",
              "      spin 1s steps(1) infinite;\n",
              "  }\n",
              "\n",
              "  @keyframes spin {\n",
              "    0% {\n",
              "      border-color: transparent;\n",
              "      border-bottom-color: var(--fill-color);\n",
              "      border-left-color: var(--fill-color);\n",
              "    }\n",
              "    20% {\n",
              "      border-color: transparent;\n",
              "      border-left-color: var(--fill-color);\n",
              "      border-top-color: var(--fill-color);\n",
              "    }\n",
              "    30% {\n",
              "      border-color: transparent;\n",
              "      border-left-color: var(--fill-color);\n",
              "      border-top-color: var(--fill-color);\n",
              "      border-right-color: var(--fill-color);\n",
              "    }\n",
              "    40% {\n",
              "      border-color: transparent;\n",
              "      border-right-color: var(--fill-color);\n",
              "      border-top-color: var(--fill-color);\n",
              "    }\n",
              "    60% {\n",
              "      border-color: transparent;\n",
              "      border-right-color: var(--fill-color);\n",
              "    }\n",
              "    80% {\n",
              "      border-color: transparent;\n",
              "      border-right-color: var(--fill-color);\n",
              "      border-bottom-color: var(--fill-color);\n",
              "    }\n",
              "    90% {\n",
              "      border-color: transparent;\n",
              "      border-bottom-color: var(--fill-color);\n",
              "    }\n",
              "  }\n",
              "</style>\n",
              "\n",
              "  <script>\n",
              "    async function quickchart(key) {\n",
              "      const quickchartButtonEl =\n",
              "        document.querySelector('#' + key + ' button');\n",
              "      quickchartButtonEl.disabled = true;  // To prevent multiple clicks.\n",
              "      quickchartButtonEl.classList.add('colab-df-spinner');\n",
              "      try {\n",
              "        const charts = await google.colab.kernel.invokeFunction(\n",
              "            'suggestCharts', [key], {});\n",
              "      } catch (error) {\n",
              "        console.error('Error during call to suggestCharts:', error);\n",
              "      }\n",
              "      quickchartButtonEl.classList.remove('colab-df-spinner');\n",
              "      quickchartButtonEl.classList.add('colab-df-quickchart-complete');\n",
              "    }\n",
              "    (() => {\n",
              "      let quickchartButtonEl =\n",
              "        document.querySelector('#df-f02d7bd6-51d3-4264-9e8c-7b153c350790 button');\n",
              "      quickchartButtonEl.style.display =\n",
              "        google.colab.kernel.accessAllowed ? 'block' : 'none';\n",
              "    })();\n",
              "  </script>\n",
              "</div>\n",
              "\n",
              "    </div>\n",
              "  </div>\n"
            ],
            "application/vnd.google.colaboratory.intrinsic+json": {
              "type": "dataframe",
              "variable_name": "nyc_small"
            }
          },
          "metadata": {},
          "execution_count": 26
        }
      ],
      "source": [
        "nyc_small.head(2)"
      ]
    },
    {
      "cell_type": "markdown",
      "metadata": {
        "id": "YxY_iWY5Pagy"
      },
      "source": [
        "Now, let's create the pyspark dataframe. Now we two frames with the same content\n",
        "  * nyc_small: pandas\n",
        "  * sdf_small: pyspark"
      ]
    },
    {
      "cell_type": "code",
      "execution_count": null,
      "metadata": {
        "id": "9Nv8BQFOPagy",
        "colab": {
          "base_uri": "https://localhost:8080/"
        },
        "outputId": "f6975d03-0178-4c92-a58a-0425e7417369"
      },
      "outputs": [
        {
          "output_type": "stream",
          "name": "stdout",
          "text": [
            "root\n",
            " |-- CRASH DATE: string (nullable = true)\n",
            " |-- CRASH TIME: string (nullable = true)\n",
            " |-- BOROUGH: string (nullable = true)\n",
            " |-- ZIP CODE: string (nullable = true)\n",
            " |-- LATITUDE: double (nullable = true)\n",
            " |-- LONGITUDE: double (nullable = true)\n",
            " |-- LOCATION: string (nullable = true)\n",
            " |-- ON STREET NAME: string (nullable = true)\n",
            " |-- CROSS STREET NAME: string (nullable = true)\n",
            " |-- OFF STREET NAME: string (nullable = true)\n",
            " |-- NUMBER OF PERSONS INJURED: string (nullable = true)\n",
            " |-- NUMBER OF PERSONS KILLED: integer (nullable = true)\n",
            " |-- NUMBER OF PEDESTRIANS INJURED: integer (nullable = true)\n",
            " |-- NUMBER OF PEDESTRIANS KILLED: integer (nullable = true)\n",
            " |-- NUMBER OF CYCLIST INJURED: integer (nullable = true)\n",
            " |-- NUMBER OF CYCLIST KILLED: string (nullable = true)\n",
            " |-- NUMBER OF MOTORIST INJURED: string (nullable = true)\n",
            " |-- NUMBER OF MOTORIST KILLED: integer (nullable = true)\n",
            " |-- CONTRIBUTING FACTOR VEHICLE 1: string (nullable = true)\n",
            " |-- CONTRIBUTING FACTOR VEHICLE 2: string (nullable = true)\n",
            " |-- CONTRIBUTING FACTOR VEHICLE 3: string (nullable = true)\n",
            " |-- CONTRIBUTING FACTOR VEHICLE 4: string (nullable = true)\n",
            " |-- CONTRIBUTING FACTOR VEHICLE 5: string (nullable = true)\n",
            " |-- COLLISION_ID: integer (nullable = true)\n",
            " |-- VEHICLE TYPE CODE 1: string (nullable = true)\n",
            " |-- VEHICLE TYPE CODE 2: string (nullable = true)\n",
            " |-- VEHICLE TYPE CODE 3: string (nullable = true)\n",
            " |-- VEHICLE TYPE CODE 4: string (nullable = true)\n",
            " |-- VEHICLE TYPE CODE 5: string (nullable = true)\n",
            "\n",
            "+----------+----------+--------+--------+---------+----------+--------------------+--------------------+-----------------+--------------------+-------------------------+------------------------+-----------------------------+----------------------------+-------------------------+------------------------+--------------------------+-------------------------+-----------------------------+-----------------------------+-----------------------------+-----------------------------+-----------------------------+------------+-------------------+-------------------+-------------------+-------------------+-------------------+\n",
            "|CRASH DATE|CRASH TIME| BOROUGH|ZIP CODE| LATITUDE| LONGITUDE|            LOCATION|      ON STREET NAME|CROSS STREET NAME|     OFF STREET NAME|NUMBER OF PERSONS INJURED|NUMBER OF PERSONS KILLED|NUMBER OF PEDESTRIANS INJURED|NUMBER OF PEDESTRIANS KILLED|NUMBER OF CYCLIST INJURED|NUMBER OF CYCLIST KILLED|NUMBER OF MOTORIST INJURED|NUMBER OF MOTORIST KILLED|CONTRIBUTING FACTOR VEHICLE 1|CONTRIBUTING FACTOR VEHICLE 2|CONTRIBUTING FACTOR VEHICLE 3|CONTRIBUTING FACTOR VEHICLE 4|CONTRIBUTING FACTOR VEHICLE 5|COLLISION_ID|VEHICLE TYPE CODE 1|VEHICLE TYPE CODE 2|VEHICLE TYPE CODE 3|VEHICLE TYPE CODE 4|VEHICLE TYPE CODE 5|\n",
            "+----------+----------+--------+--------+---------+----------+--------------------+--------------------+-----------------+--------------------+-------------------------+------------------------+-----------------------------+----------------------------+-------------------------+------------------------+--------------------------+-------------------------+-----------------------------+-----------------------------+-----------------------------+-----------------------------+-----------------------------+------------+-------------------+-------------------+-------------------+-------------------+-------------------+\n",
            "|09/11/2021|      2:39|    null|    null|     null|      null|                null|WHITESTONE EXPRES...|        20 AVENUE|                null|                        2|                       0|                            0|                           0|                        0|                       0|                         2|                        0|         Aggressive Drivin...|                  Unspecified|                         null|                         null|                         null|     4455765|              Sedan|              Sedan|               null|               null|               null|\n",
            "|03/26/2022|     11:45|    null|    null|     null|      null|                null|QUEENSBORO BRIDGE...|             null|                null|                        1|                       0|                            0|                           0|                        0|                       0|                         1|                        0|            Pavement Slippery|                         null|                         null|                         null|                         null|     4513547|              Sedan|               null|               null|               null|               null|\n",
            "|06/29/2022|      6:55|    null|    null|     null|      null|                null|  THROGS NECK BRIDGE|             null|                null|                        0|                       0|                            0|                           0|                        0|                       0|                         0|                        0|         Following Too Clo...|                  Unspecified|                         null|                         null|                         null|     4541903|              Sedan|      Pick-up Truck|               null|               null|               null|\n",
            "|09/11/2021|      9:35|BROOKLYN|   11208|40.667202|  -73.8665|(40.667202, -73.8...|                null|             null|1211      LORING ...|                        0|                       0|                            0|                           0|                        0|                       0|                         0|                        0|                  Unspecified|                         null|                         null|                         null|                         null|     4456314|              Sedan|               null|               null|               null|               null|\n",
            "|12/14/2021|      8:13|BROOKLYN|   11233|40.683304|-73.917274|(40.683304, -73.9...|     SARATOGA AVENUE|   DECATUR STREET|                null|                        0|                       0|                            0|                           0|                        0|                       0|                         0|                        0|                         null|                         null|                         null|                         null|                         null|     4486609|               null|               null|               null|               null|               null|\n",
            "+----------+----------+--------+--------+---------+----------+--------------------+--------------------+-----------------+--------------------+-------------------------+------------------------+-----------------------------+----------------------------+-------------------------+------------------------+--------------------------+-------------------------+-----------------------------+-----------------------------+-----------------------------+-----------------------------+-----------------------------+------------+-------------------+-------------------+-------------------+-------------------+-------------------+\n",
            "only showing top 5 rows\n",
            "\n"
          ]
        }
      ],
      "source": [
        "# Load the CSV file directly into PySpark DataFrame\n",
        "sdf_small = spark.read.csv('rows.csv', header=True, inferSchema=True)\n",
        "\n",
        "# Print schema to verify\n",
        "sdf_small.printSchema()\n",
        "\n",
        "# Show data\n",
        "sdf_small.show(5)\n",
        "\n"
      ]
    },
    {
      "cell_type": "markdown",
      "metadata": {
        "id": "hjzQV0zdPagy"
      },
      "source": [
        "# Questions\n",
        "\n",
        "Answer the following questions by porting the pandas code to the Spark API\n"
      ]
    },
    {
      "cell_type": "markdown",
      "metadata": {
        "id": "2eiPJqCBPagy"
      },
      "source": [
        "\n",
        "# Question 1\n",
        "\n",
        "\n",
        "> On what day do most crashes occcur?"
      ]
    },
    {
      "cell_type": "code",
      "execution_count": null,
      "metadata": {
        "id": "381DEdUbPagy",
        "colab": {
          "base_uri": "https://localhost:8080/",
          "height": 272
        },
        "outputId": "251b6d58-f3c8-4a18-c045-0bede08ceb06"
      },
      "outputs": [
        {
          "output_type": "execute_result",
          "data": {
            "text/plain": [
              "CRASH DATE\n",
              "01/21/2014    235\n",
              "05/19/2017    219\n",
              "11/15/2018    218\n",
              "02/03/2014    208\n",
              "02/14/2014    192\n",
              "Name: CRASH DATE, dtype: int64"
            ],
            "text/html": [
              "<div>\n",
              "<style scoped>\n",
              "    .dataframe tbody tr th:only-of-type {\n",
              "        vertical-align: middle;\n",
              "    }\n",
              "\n",
              "    .dataframe tbody tr th {\n",
              "        vertical-align: top;\n",
              "    }\n",
              "\n",
              "    .dataframe thead th {\n",
              "        text-align: right;\n",
              "    }\n",
              "</style>\n",
              "<table border=\"1\" class=\"dataframe\">\n",
              "  <thead>\n",
              "    <tr style=\"text-align: right;\">\n",
              "      <th></th>\n",
              "      <th>CRASH DATE</th>\n",
              "    </tr>\n",
              "    <tr>\n",
              "      <th>CRASH DATE</th>\n",
              "      <th></th>\n",
              "    </tr>\n",
              "  </thead>\n",
              "  <tbody>\n",
              "    <tr>\n",
              "      <th>01/21/2014</th>\n",
              "      <td>235</td>\n",
              "    </tr>\n",
              "    <tr>\n",
              "      <th>05/19/2017</th>\n",
              "      <td>219</td>\n",
              "    </tr>\n",
              "    <tr>\n",
              "      <th>11/15/2018</th>\n",
              "      <td>218</td>\n",
              "    </tr>\n",
              "    <tr>\n",
              "      <th>02/03/2014</th>\n",
              "      <td>208</td>\n",
              "    </tr>\n",
              "    <tr>\n",
              "      <th>02/14/2014</th>\n",
              "      <td>192</td>\n",
              "    </tr>\n",
              "  </tbody>\n",
              "</table>\n",
              "</div><br><label><b>dtype:</b> int64</label>"
            ]
          },
          "metadata": {},
          "execution_count": 29
        }
      ],
      "source": [
        "# Pandas\n",
        "nyc_small.groupby('CRASH DATE')['CRASH DATE'].count().sort_values(ascending=False).head(5)"
      ]
    },
    {
      "cell_type": "code",
      "execution_count": null,
      "metadata": {
        "id": "RxEoC_jUPagy",
        "colab": {
          "base_uri": "https://localhost:8080/"
        },
        "outputId": "fcf57a7a-c30e-4112-d78f-48ede3d264ed"
      },
      "outputs": [
        {
          "output_type": "stream",
          "name": "stdout",
          "text": [
            "+----------+-----+\n",
            "|CRASH DATE|count|\n",
            "+----------+-----+\n",
            "|2014-01-21| 1161|\n",
            "|2018-11-15| 1065|\n",
            "|2017-12-15|  999|\n",
            "|2017-05-19|  974|\n",
            "|2015-01-18|  961|\n",
            "+----------+-----+\n",
            "only showing top 5 rows\n",
            "\n"
          ]
        }
      ],
      "source": [
        "### Spark?\n",
        "from pyspark.sql import functions as F\n",
        "\n",
        "sdf_small.filter(sdf_small['CRASH DATE'].isNotNull()).groupBy('CRASH DATE').count().orderBy(F.desc('count')).show(5)\n",
        "\n"
      ]
    },
    {
      "cell_type": "markdown",
      "metadata": {
        "id": "YMGF7Sr4Pagy"
      },
      "source": [
        "# Question 2\n",
        "\n",
        "> _Where do most crashes occur?_"
      ]
    },
    {
      "cell_type": "code",
      "execution_count": null,
      "metadata": {
        "id": "lo1GOaiOPagy",
        "colab": {
          "base_uri": "https://localhost:8080/",
          "height": 272
        },
        "outputId": "a113dd2d-81ee-4822-9597-9213014afe73"
      },
      "outputs": [
        {
          "output_type": "execute_result",
          "data": {
            "text/plain": [
              "BOROUGH\n",
              "BROOKLYN         464859\n",
              "QUEENS           391299\n",
              "MANHATTAN        325510\n",
              "BRONX            215944\n",
              "STATEN ISLAND     61178\n",
              "Name: BOROUGH, dtype: int64"
            ],
            "text/html": [
              "<div>\n",
              "<style scoped>\n",
              "    .dataframe tbody tr th:only-of-type {\n",
              "        vertical-align: middle;\n",
              "    }\n",
              "\n",
              "    .dataframe tbody tr th {\n",
              "        vertical-align: top;\n",
              "    }\n",
              "\n",
              "    .dataframe thead th {\n",
              "        text-align: right;\n",
              "    }\n",
              "</style>\n",
              "<table border=\"1\" class=\"dataframe\">\n",
              "  <thead>\n",
              "    <tr style=\"text-align: right;\">\n",
              "      <th></th>\n",
              "      <th>BOROUGH</th>\n",
              "    </tr>\n",
              "    <tr>\n",
              "      <th>BOROUGH</th>\n",
              "      <th></th>\n",
              "    </tr>\n",
              "  </thead>\n",
              "  <tbody>\n",
              "    <tr>\n",
              "      <th>BROOKLYN</th>\n",
              "      <td>464859</td>\n",
              "    </tr>\n",
              "    <tr>\n",
              "      <th>QUEENS</th>\n",
              "      <td>391299</td>\n",
              "    </tr>\n",
              "    <tr>\n",
              "      <th>MANHATTAN</th>\n",
              "      <td>325510</td>\n",
              "    </tr>\n",
              "    <tr>\n",
              "      <th>BRONX</th>\n",
              "      <td>215944</td>\n",
              "    </tr>\n",
              "    <tr>\n",
              "      <th>STATEN ISLAND</th>\n",
              "      <td>61178</td>\n",
              "    </tr>\n",
              "  </tbody>\n",
              "</table>\n",
              "</div><br><label><b>dtype:</b> int64</label>"
            ]
          },
          "metadata": {},
          "execution_count": 48
        }
      ],
      "source": [
        "nyc_small.groupby('BOROUGH')['BOROUGH'].count().sort_values(ascending=False).head(5)"
      ]
    },
    {
      "cell_type": "code",
      "execution_count": null,
      "metadata": {
        "id": "g9knOMkCPagy",
        "colab": {
          "base_uri": "https://localhost:8080/"
        },
        "outputId": "43e56307-dafa-4379-ffd5-32d4bf92c068"
      },
      "outputs": [
        {
          "output_type": "stream",
          "name": "stdout",
          "text": [
            "+-------------+------+\n",
            "|      BOROUGH| count|\n",
            "+-------------+------+\n",
            "|     BROOKLYN|464859|\n",
            "|       QUEENS|391299|\n",
            "|    MANHATTAN|325510|\n",
            "|        BRONX|215944|\n",
            "|STATEN ISLAND| 61178|\n",
            "+-------------+------+\n",
            "only showing top 5 rows\n",
            "\n"
          ]
        }
      ],
      "source": [
        "## Spark?\n",
        "sdf_small.filter(sdf_small['BOROUGH'].isNotNull()).groupBy('BOROUGH').count().orderBy(F.desc('count')).show(5)\n"
      ]
    },
    {
      "cell_type": "markdown",
      "metadata": {
        "id": "Qm9oEfRPPagy"
      },
      "source": [
        " # Question 3\n",
        "\n",
        " > What is the most common cause of accident in 'QUEENS'"
      ]
    },
    {
      "cell_type": "code",
      "execution_count": null,
      "metadata": {
        "id": "5nhW1ZJePagy",
        "colab": {
          "base_uri": "https://localhost:8080/",
          "height": 272
        },
        "outputId": "6f389c56-03bd-4fa0-a7cd-7350c8441d16"
      },
      "outputs": [
        {
          "output_type": "execute_result",
          "data": {
            "text/plain": [
              "CONTRIBUTING FACTOR VEHICLE 1\n",
              "Unspecified                       135958\n",
              "Driver Inattention/Distraction     83779\n",
              "Failure to Yield Right-of-Way      33637\n",
              "Backing Unsafely                   19137\n",
              "Following Too Closely              14360\n",
              "Name: CONTRIBUTING FACTOR VEHICLE 1, dtype: int64"
            ],
            "text/html": [
              "<div>\n",
              "<style scoped>\n",
              "    .dataframe tbody tr th:only-of-type {\n",
              "        vertical-align: middle;\n",
              "    }\n",
              "\n",
              "    .dataframe tbody tr th {\n",
              "        vertical-align: top;\n",
              "    }\n",
              "\n",
              "    .dataframe thead th {\n",
              "        text-align: right;\n",
              "    }\n",
              "</style>\n",
              "<table border=\"1\" class=\"dataframe\">\n",
              "  <thead>\n",
              "    <tr style=\"text-align: right;\">\n",
              "      <th></th>\n",
              "      <th>CONTRIBUTING FACTOR VEHICLE 1</th>\n",
              "    </tr>\n",
              "    <tr>\n",
              "      <th>CONTRIBUTING FACTOR VEHICLE 1</th>\n",
              "      <th></th>\n",
              "    </tr>\n",
              "  </thead>\n",
              "  <tbody>\n",
              "    <tr>\n",
              "      <th>Unspecified</th>\n",
              "      <td>135958</td>\n",
              "    </tr>\n",
              "    <tr>\n",
              "      <th>Driver Inattention/Distraction</th>\n",
              "      <td>83779</td>\n",
              "    </tr>\n",
              "    <tr>\n",
              "      <th>Failure to Yield Right-of-Way</th>\n",
              "      <td>33637</td>\n",
              "    </tr>\n",
              "    <tr>\n",
              "      <th>Backing Unsafely</th>\n",
              "      <td>19137</td>\n",
              "    </tr>\n",
              "    <tr>\n",
              "      <th>Following Too Closely</th>\n",
              "      <td>14360</td>\n",
              "    </tr>\n",
              "  </tbody>\n",
              "</table>\n",
              "</div><br><label><b>dtype:</b> int64</label>"
            ]
          },
          "metadata": {},
          "execution_count": 55
        }
      ],
      "source": [
        "nyc_small[(nyc_small.BOROUGH == 'QUEENS')]['CONTRIBUTING FACTOR VEHICLE 1'].value_counts()\n",
        "\n",
        "# you can also use a group by (to avoid the pandas value_counts function)\n",
        "\n",
        "nyc_small[(nyc_small.BOROUGH == 'QUEENS')].groupby(\n",
        "    'CONTRIBUTING FACTOR VEHICLE 1'\n",
        ")['CONTRIBUTING FACTOR VEHICLE 1'].count().sort_values(ascending=False).head(5)"
      ]
    },
    {
      "cell_type": "code",
      "execution_count": null,
      "metadata": {
        "id": "2f-Sp6ZwPagy",
        "colab": {
          "base_uri": "https://localhost:8080/"
        },
        "outputId": "1fbd221b-2709-46cb-f6bc-d1da25bdbd74"
      },
      "outputs": [
        {
          "output_type": "stream",
          "name": "stdout",
          "text": [
            "+-----------------------------+------+\n",
            "|CONTRIBUTING FACTOR VEHICLE 1| count|\n",
            "+-----------------------------+------+\n",
            "|                  Unspecified|135958|\n",
            "|         Driver Inattentio...| 83779|\n",
            "|         Failure to Yield ...| 33637|\n",
            "|             Backing Unsafely| 19137|\n",
            "|         Following Too Clo...| 14360|\n",
            "+-----------------------------+------+\n",
            "only showing top 5 rows\n",
            "\n"
          ]
        }
      ],
      "source": [
        "## Spark?\n",
        "sdf_small.filter(sdf_small['BOROUGH'] == 'QUEENS').groupBy('CONTRIBUTING FACTOR VEHICLE 1').count().orderBy(F.desc('count')).show(5)"
      ]
    },
    {
      "cell_type": "markdown",
      "metadata": {
        "id": "-WZOlgeaPagy"
      },
      "source": [
        "# Question 4"
      ]
    },
    {
      "cell_type": "markdown",
      "metadata": {
        "id": "cPv8Rd97Pagy"
      },
      "source": [
        "> _What is the average number or injuries for specific cars driving in specific suburbs_\n"
      ]
    },
    {
      "cell_type": "code",
      "execution_count": null,
      "metadata": {
        "id": "wHJx4kbBPagy",
        "colab": {
          "base_uri": "https://localhost:8080/",
          "height": 209
        },
        "outputId": "cff70350-24ba-4d7b-849c-e1382dfb31d3"
      },
      "outputs": [
        {
          "output_type": "execute_result",
          "data": {
            "text/plain": [
              "VEHICLE TYPE CODE 1  BOROUGH  \n",
              "Limo                 MANHATTAN    13.0\n",
              "FRONT                BROOKLYN     12.0\n",
              "rmb                  QUEENS       11.0\n",
              "Name: NUMBER OF PERSONS INJURED, dtype: float64"
            ],
            "text/html": [
              "<div>\n",
              "<style scoped>\n",
              "    .dataframe tbody tr th:only-of-type {\n",
              "        vertical-align: middle;\n",
              "    }\n",
              "\n",
              "    .dataframe tbody tr th {\n",
              "        vertical-align: top;\n",
              "    }\n",
              "\n",
              "    .dataframe thead th {\n",
              "        text-align: right;\n",
              "    }\n",
              "</style>\n",
              "<table border=\"1\" class=\"dataframe\">\n",
              "  <thead>\n",
              "    <tr style=\"text-align: right;\">\n",
              "      <th></th>\n",
              "      <th></th>\n",
              "      <th>NUMBER OF PERSONS INJURED</th>\n",
              "    </tr>\n",
              "    <tr>\n",
              "      <th>VEHICLE TYPE CODE 1</th>\n",
              "      <th>BOROUGH</th>\n",
              "      <th></th>\n",
              "    </tr>\n",
              "  </thead>\n",
              "  <tbody>\n",
              "    <tr>\n",
              "      <th>Limo</th>\n",
              "      <th>MANHATTAN</th>\n",
              "      <td>13.0</td>\n",
              "    </tr>\n",
              "    <tr>\n",
              "      <th>FRONT</th>\n",
              "      <th>BROOKLYN</th>\n",
              "      <td>12.0</td>\n",
              "    </tr>\n",
              "    <tr>\n",
              "      <th>rmb</th>\n",
              "      <th>QUEENS</th>\n",
              "      <td>11.0</td>\n",
              "    </tr>\n",
              "  </tbody>\n",
              "</table>\n",
              "</div><br><label><b>dtype:</b> float64</label>"
            ]
          },
          "metadata": {},
          "execution_count": 58
        }
      ],
      "source": [
        "nyc_small.groupby(['VEHICLE TYPE CODE 1', 'BOROUGH'])['NUMBER OF PERSONS INJURED'].mean().sort_values(ascending=False).head(3)"
      ]
    },
    {
      "cell_type": "code",
      "execution_count": null,
      "metadata": {
        "id": "kAPgGIbXPagz",
        "colab": {
          "base_uri": "https://localhost:8080/"
        },
        "outputId": "c1bcdb31-eae5-467c-d7d3-7a781a14360e"
      },
      "outputs": [
        {
          "output_type": "stream",
          "name": "stdout",
          "text": [
            "+-------------------+---------+------+\n",
            "|VEHICLE TYPE CODE 1|  BOROUGH|Number|\n",
            "+-------------------+---------+------+\n",
            "|               Limo|MANHATTAN|  13.0|\n",
            "|              FRONT| BROOKLYN|  12.0|\n",
            "|              PASSE|    BRONX|  11.0|\n",
            "|                rmb|   QUEENS|  11.0|\n",
            "+-------------------+---------+------+\n",
            "only showing top 4 rows\n",
            "\n"
          ]
        }
      ],
      "source": [
        "## Spark?\n",
        "sdf_small.groupBy('VEHICLE TYPE CODE 1', 'BOROUGH').agg(F.mean('NUMBER OF PERSONS INJURED').alias('Number')).orderBy(F.desc('Number')).show(4)\n"
      ]
    }
  ],
  "metadata": {
    "kernelspec": {
      "display_name": "Python 3",
      "language": "python",
      "name": "python3"
    },
    "language_info": {
      "codemirror_mode": {
        "name": "ipython",
        "version": 3
      },
      "file_extension": ".py",
      "mimetype": "text/x-python",
      "name": "python",
      "nbconvert_exporter": "python",
      "pygments_lexer": "ipython3",
      "version": "3.6.9"
    },
    "colab": {
      "provenance": [],
      "include_colab_link": true
    }
  },
  "nbformat": 4,
  "nbformat_minor": 0
}